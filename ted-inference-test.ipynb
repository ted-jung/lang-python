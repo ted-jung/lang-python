{
 "cells": [
  {
   "cell_type": "markdown",
   "id": "9ed57106",
   "metadata": {},
   "source": [
    "#### Simple Model (MNIST, CNN)\n",
    "#### Ted, Jung\n",
    "#### Created: 17, Jul 2025\n",
    "#### Description\n",
    "####   1. prepare data\n",
    "####   2. split data into two(test, train)\n",
    "####   3. Data scaling\n",
    "####   4. Image downloads for service (tensorflow) after saving a model into directory (saved_model)\n",
    "####      > docker run -t --rm -p 8501:8501 -v \"./saved_model:/models/test_model\" -e MODEL_NAME=test_model tensorflow/serving &"
   ]
  },
  {
   "cell_type": "code",
   "execution_count": 13,
   "id": "ef905688",
   "metadata": {},
   "outputs": [
    {
     "name": "stdout",
     "output_type": "stream",
     "text": [
      "test_images.shape: (10000, 28, 28, 1), of float64\n",
      "Data: {\"signature_name\": \"serving_default\", \"instances\": ...  [0.0], [0.0], [0.0], [0.0], [0.0], [0.0], [0.0]]]]}\n"
     ]
    }
   ],
   "source": [
    "import tensorflow as tf\n",
    "from tensorflow import keras\n",
    "import os\n",
    "import random\n",
    "import json\n",
    "\n",
    "fashion_mnist = keras.datasets.fashion_mnist\n",
    "(train_images, train_labels), (test_images, test_labels) = fashion_mnist.load_data()\n",
    "\n",
    "# scale the values to 0.0 to 1.0\n",
    "test_images = test_images / 255.0\n",
    "\n",
    "# reshape for feeding into the model\n",
    "test_images = test_images.reshape(test_images.shape[0], 28, 28, 1)\n",
    "\n",
    "class_names = ['T-shirt/top', 'Trouser', 'Pullover', 'Dress', 'Coat',\n",
    "               'Sandal', 'Shirt', 'Sneaker', 'Bag', 'Ankle boot']\n",
    "\n",
    "print('test_images.shape: {}, of {}'.format(test_images.shape, test_images.dtype))\n",
    "\n",
    "rando = random.randint(0, len(test_images)-1)\n",
    "\n",
    "data = json.dumps({\"signature_name\": \"serving_default\", \"instances\": test_images[0:3].tolist()})\n",
    "print('Data: {} ... {}'.format(data[:50], data[len(data)-52:]))"
   ]
  },
  {
   "cell_type": "code",
   "execution_count": null,
   "id": "e3d30d74",
   "metadata": {},
   "outputs": [],
   "source": [
    "# tensorflow/serving(from Google) docker image를 실행하여 rest api구축\n",
    "\n",
    "> docker run -t --rm -p 8501:8501 -v \"./saved_model:/models/test_model\" -e MODEL_NAME=test_model tensorflow/serving &"
   ]
  },
  {
   "cell_type": "markdown",
   "id": "4c334f64",
   "metadata": {},
   "source": [
    "#### 예측수행"
   ]
  },
  {
   "cell_type": "code",
   "execution_count": null,
   "id": "71d9ac42",
   "metadata": {},
   "outputs": [],
   "source": [
    "import requests\n",
    "\n",
    "headers = {\"content-type\": \"application/json\"}\n",
    "json_response = requests.post('http://localhost:8501/v1/models/test_model:predict', data=data, headers=headers)\n",
    "predictions = json.loads(json_response.text)['predictions']"
   ]
  },
  {
   "cell_type": "markdown",
   "id": "b57a770c",
   "metadata": {},
   "source": [
    "#### 예측값 실제값 비교 (데이터 랜덤선택)"
   ]
  },
  {
   "cell_type": "code",
   "execution_count": 15,
   "id": "6b363f6e",
   "metadata": {},
   "outputs": [
    {
     "name": "stdout",
     "output_type": "stream",
     "text": [
      "The model predicts this was a Ankle boot (class 9), and it was actually a Ankle boot (class 9)\n",
      "The model predicts this was a Pullover (class 2), and it was actually a Pullover (class 2)\n",
      "The model predicts this was a Trouser (class 1), and it was actually a Trouser (class 1)\n"
     ]
    }
   ],
   "source": [
    "import np\n",
    "for i in range(3):\n",
    "    print(('The model predicts this was a {} (class {}), and it was actually a {} (class {})'.format(\n",
    "      class_names[np.argmax(predictions[i])], np.argmax(predictions[i]), class_names[test_labels[i]], test_labels[i])))"
   ]
  },
  {
   "cell_type": "code",
   "execution_count": null,
   "id": "df0e6710",
   "metadata": {},
   "outputs": [],
   "source": []
  }
 ],
 "metadata": {
  "kernelspec": {
   "display_name": "Python 3",
   "language": "python",
   "name": "python3"
  },
  "language_info": {
   "codemirror_mode": {
    "name": "ipython",
    "version": 3
   },
   "file_extension": ".py",
   "mimetype": "text/x-python",
   "name": "python",
   "nbconvert_exporter": "python",
   "pygments_lexer": "ipython3",
   "version": "3.12.8"
  }
 },
 "nbformat": 4,
 "nbformat_minor": 5
}
